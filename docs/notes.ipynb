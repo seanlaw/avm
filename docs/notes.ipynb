{
 "cells": [
  {
   "cell_type": "markdown",
   "metadata": {},
   "source": [
    "# Notes\n",
    "\n",
    "## Upper Bound with Overlap\n",
    "\n",
    "22 x 50 x 34 x 50 x 66 x 50 x 26 x 26 x 26 = 108,461,496,000,000 (108 Trillion - 14 zeros)\n",
    "\n",
    "## Current Computation (01/**/2019)\n",
    "\n",
    "hours, GB, combinations\n",
    "\n",
    "[1, 4.1, 104,027,351] "
   ]
  },
  {
   "cell_type": "code",
   "execution_count": null,
   "metadata": {},
   "outputs": [],
   "source": []
  }
 ],
 "metadata": {
  "kernelspec": {
   "display_name": "Python 3",
   "language": "python",
   "name": "python3"
  },
  "language_info": {
   "codemirror_mode": {
    "name": "ipython",
    "version": 3
   },
   "file_extension": ".py",
   "mimetype": "text/x-python",
   "name": "python",
   "nbconvert_exporter": "python",
   "pygments_lexer": "ipython3",
   "version": "3.6.7"
  }
 },
 "nbformat": 4,
 "nbformat_minor": 2
}
