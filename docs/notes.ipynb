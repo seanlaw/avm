{
 "cells": [
  {
   "cell_type": "markdown",
   "metadata": {},
   "source": [
    "# Notes\n",
    "\n",
    "## Upper Bound with Overlap\n",
    "\n",
    "22 x 50 x 34 x 50 x 66 x 50 x 26 x 26 x 26 = 108,461,496,000,000 (108 Trillion - 14 zeros)\n",
    "\n",
    "## Current Computation (01/**/2019)"
   ]
  },
  {
   "cell_type": "code",
   "execution_count": 5,
   "metadata": {},
   "outputs": [
    {
     "data": {
      "text/plain": [
       "[[1, 4.1, 104027351],\n",
       " [2, 8.1, 206866565],\n",
       " [3, 13, 332316663],\n",
       " [4, 17, 424566692],\n",
       " [6, 25, 637091554],\n",
       " [7, 29, 743703276],\n",
       " [10, 40, 1030335457],\n",
       " [11, 45, 1134302588],\n",
       " [12, 48, 1234531784],\n",
       " [13, 52, 1336674386],\n",
       " [19, 76, 1951444723]]"
      ]
     },
     "execution_count": 5,
     "metadata": {},
     "output_type": "execute_result"
    }
   ],
   "source": [
    "#hours, GB, combinations\n",
    "\n",
    "[[1, 4.1, 104027351],\n",
    " [2, 8.1, 206866565],\n",
    " [3, 13, 332316663],\n",
    " [4, 17, 424566692],\n",
    " [6, 25, 637091554],\n",
    " [7, 29, 743703276],\n",
    " [10, 40, 1030335457],\n",
    " [11, 45, 1134302588],\n",
    " [12, 48, 1234531784],\n",
    " [13, 52, 1336674386],\n",
    " [19, 76, 1951444723],\n",
    "]"
   ]
  },
  {
   "cell_type": "code",
   "execution_count": null,
   "metadata": {},
   "outputs": [],
   "source": []
  }
 ],
 "metadata": {
  "kernelspec": {
   "display_name": "Python 3",
   "language": "python",
   "name": "python3"
  },
  "language_info": {
   "codemirror_mode": {
    "name": "ipython",
    "version": 3
   },
   "file_extension": ".py",
   "mimetype": "text/x-python",
   "name": "python",
   "nbconvert_exporter": "python",
   "pygments_lexer": "ipython3",
   "version": "3.6.7"
  }
 },
 "nbformat": 4,
 "nbformat_minor": 2
}
