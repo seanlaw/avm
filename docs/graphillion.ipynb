{
 "cells": [
  {
   "cell_type": "code",
   "execution_count": 12,
   "metadata": {},
   "outputs": [],
   "source": [
    "from graphillion import GraphSet\n",
    "import networkx as nx\n",
    "from itertools import combinations, chain"
   ]
  },
  {
   "cell_type": "code",
   "execution_count": 13,
   "metadata": {},
   "outputs": [
    {
     "name": "stdout",
     "output_type": "stream",
     "text": [
      "61075\n"
     ]
    }
   ],
   "source": [
    "#universe = [(0,1), (1,2), (2,3), (3,4),(0,2)]\n",
    "x = range(350)  # 350 rows\n",
    "universe = list(combinations(x, 2))\n",
    "GraphSet.set_universe(universe)\n",
    "print(len(GraphSet.universe()))"
   ]
  },
  {
   "cell_type": "code",
   "execution_count": 14,
   "metadata": {},
   "outputs": [
    {
     "data": {
      "text/plain": [
       "GraphSet([[(0, 1), (1, 2)], [(0, 2), (2, 3)], [(1, 2), (2, 3), (3, 4)]])"
      ]
     },
     "execution_count": 14,
     "metadata": {},
     "output_type": "execute_result"
    }
   ],
   "source": [
    "gs = GraphSet()\n",
    "gs.add([(2, 3), (1, 2), (3, 4)])\n",
    "gs.add([(0,1), (1,2)])\n",
    "gs.add([(0,2), (2,3)])\n",
    "# gs = GraphSet([[(2, 3), (1, 2), (3, 4)], [(0, 1), (1, 2)], [(0, 2), (2, 3)]])\n",
    "gs"
   ]
  },
  {
   "cell_type": "code",
   "execution_count": 17,
   "metadata": {},
   "outputs": [
    {
     "name": "stdout",
     "output_type": "stream",
     "text": [
      "[0, 1, 2]\n",
      "[0, 2, 3]\n",
      "[1, 2, 3, 4]\n"
     ]
    }
   ],
   "source": [
    "for x in iter(gs):\n",
    "    print(list(set(chain(*x))))"
   ]
  },
  {
   "cell_type": "code",
   "execution_count": 16,
   "metadata": {},
   "outputs": [
    {
     "name": "stdout",
     "output_type": "stream",
     "text": [
      "[1, 2, 3, 4]\n"
     ]
    }
   ],
   "source": [
    "E = x  # set of edges, representing path\n",
    "G = nx.Graph(E)  # NetworkX graph object\n",
    "print(list(nx.dfs_preorder_nodes(G, 1)))  # [1, 2, 3, 4]"
   ]
  },
  {
   "cell_type": "code",
   "execution_count": 6,
   "metadata": {},
   "outputs": [
    {
     "data": {
      "text/plain": [
       "False"
      ]
     },
     "execution_count": 6,
     "metadata": {},
     "output_type": "execute_result"
    }
   ],
   "source": [
    "[(0,1),(1,2),(3,4)] in gs"
   ]
  },
  {
   "cell_type": "code",
   "execution_count": 8,
   "metadata": {},
   "outputs": [
    {
     "name": "stdout",
     "output_type": "stream",
     "text": [
      "True\n",
      "True\n"
     ]
    }
   ],
   "source": [
    "print([(0,1),(1,2)] in gs)\n",
    "print([(1,0),(2,1)] in gs)"
   ]
  },
  {
   "cell_type": "code",
   "execution_count": 10,
   "metadata": {},
   "outputs": [
    {
     "data": {
      "text/plain": [
       "list"
      ]
     },
     "execution_count": 10,
     "metadata": {},
     "output_type": "execute_result"
    }
   ],
   "source": []
  },
  {
   "cell_type": "code",
   "execution_count": null,
   "metadata": {},
   "outputs": [],
   "source": []
  }
 ],
 "metadata": {
  "kernelspec": {
   "display_name": "Python 3",
   "language": "python",
   "name": "python3"
  },
  "language_info": {
   "codemirror_mode": {
    "name": "ipython",
    "version": 3
   },
   "file_extension": ".py",
   "mimetype": "text/x-python",
   "name": "python",
   "nbconvert_exporter": "python",
   "pygments_lexer": "ipython3",
   "version": "3.6.7"
  }
 },
 "nbformat": 4,
 "nbformat_minor": 2
}
